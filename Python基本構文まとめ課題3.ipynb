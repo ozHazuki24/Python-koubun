{
  "nbformat": 4,
  "nbformat_minor": 0,
  "metadata": {
    "colab": {
      "name": "課題3西田.ipynb",
      "provenance": []
    },
    "kernelspec": {
      "name": "python3",
      "display_name": "Python 3"
    },
    "language_info": {
      "name": "python"
    }
  },
  "cells": [
    {
      "cell_type": "markdown",
      "source": [
        "# 基本構文まとめ\n",
        "1番大事なこと...文の位置(ずれてるとうまくいかない,そして割と気づかない)"
      ],
      "metadata": {
        "id": "fnkLPvTCL68f"
      }
    },
    {
      "cell_type": "markdown",
      "source": [
        "# 1,コメント"
      ],
      "metadata": {
        "id": "Dqvdo5uiXFI5"
      }
    },
    {
      "cell_type": "markdown",
      "source": [
        "(#)の後に文字を書くことで実行時に無視される。\n",
        "\n"
      ],
      "metadata": {
        "id": "6b9VoYO7M3HZ"
      }
    },
    {
      "cell_type": "code",
      "source": [
        "x = 1\n",
        "x + 1\n",
        "#これで1+1がけいさんできるようになったね←これ"
      ],
      "metadata": {
        "colab": {
          "base_uri": "https://localhost:8080/"
        },
        "id": "mZcEhn3BNP0n",
        "outputId": "57737e24-784d-420a-e896-9ba16488632b"
      },
      "execution_count": null,
      "outputs": [
        {
          "output_type": "execute_result",
          "data": {
            "text/plain": [
              "2"
            ]
          },
          "metadata": {},
          "execution_count": 1
        }
      ]
    },
    {
      "cell_type": "markdown",
      "source": [
        "# 2,文字列\n",
        "\n",
        "---\n",
        "\n"
      ],
      "metadata": {
        "id": "plnMv9DgNhdg"
      }
    },
    {
      "cell_type": "markdown",
      "source": [
        "ダブルクオーテーションかシングルクオーテーションで囲む。"
      ],
      "metadata": {
        "id": "dKIXH960W_gz"
      }
    },
    {
      "cell_type": "markdown",
      "source": [
        "# 3,数値\n",
        "\n",
        "---\n",
        "\n"
      ],
      "metadata": {
        "id": "LsNIg3MAXuo8"
      }
    },
    {
      "cell_type": "markdown",
      "source": [
        "数値を扱うときはクオーテーションで囲んでしまうと文字列になってしまう。また、「+」、「-」、「/」、「%」のような記号を使うことで四則演算ができるようになる。 "
      ],
      "metadata": {
        "id": "txmraHWOXvtV"
      }
    },
    {
      "cell_type": "code",
      "source": [
        "print(10 + 5) #足し算\n",
        "print(10 - 5) #引き算\n",
        "print(10 * 5) #かけ算\n",
        "print(10 / 5) #割り算\n",
        "print(10 % 5) #あまりを求める"
      ],
      "metadata": {
        "id": "A45YF6H2YcpV"
      },
      "execution_count": null,
      "outputs": []
    },
    {
      "cell_type": "markdown",
      "source": [
        "### ＊文字列と数字の違い"
      ],
      "metadata": {
        "id": "lXSvsGADY3hX"
      }
    },
    {
      "cell_type": "code",
      "source": [
        "print(10 + 5)\n",
        "print(\"10 + 5\")\n",
        "#上は１５、下は10+5と表示される。"
      ],
      "metadata": {
        "id": "R2DwkLqVY1pF"
      },
      "execution_count": null,
      "outputs": []
    },
    {
      "cell_type": "markdown",
      "source": [
        ""
      ],
      "metadata": {
        "id": "dcxtRGMSaRXT"
      }
    },
    {
      "cell_type": "markdown",
      "source": [
        "## 4,変数"
      ],
      "metadata": {
        "id": "2QjVGdqbYyDy"
      }
    },
    {
      "cell_type": "markdown",
      "source": [
        "変数とは値に付ける名札。好きなものを付けられるが、あまり適当につけすぎるとあとで困る。大文字と小文字は別と認識される。プログラムを終了することでメモリ上のデータも消去されるため、データを残しておきたい場合は、データベースやファイルにして保存する必要がある。"
      ],
      "metadata": {
        "id": "zx5bfr-tZTjN"
      }
    },
    {
      "cell_type": "code",
      "source": [
        "lang = \"Python\" # 変数langに文字列Pythonを代入"
      ],
      "metadata": {
        "id": "kjmoIncYZTB7"
      },
      "execution_count": null,
      "outputs": []
    },
    {
      "cell_type": "markdown",
      "source": [
        "# 5,定数\n",
        "定数は値を変えられない数。Pythonでは定数を定義する構文がないため、定数的に変数を扱う場合がある。その場合、変数名は慣習としてすべて大文字にすることが多い。"
      ],
      "metadata": {
        "id": "WSagDn58agoA"
      }
    },
    {
      "cell_type": "markdown",
      "source": [
        "# 6,予約語\n",
        "関数名や変数名に使用できない単語のこと。(プログラミング言語の中で既に使用されているからだったような気がする。)"
      ],
      "metadata": {
        "id": "7OfdhHM5asrM"
      }
    },
    {
      "cell_type": "markdown",
      "source": [
        "### python3.6系の予約語\n",
        "['False', 'None', 'True', 'and', 'as', 'assert', 'break', 'class', 'continue', 'def', 'del', 'elif', 'else', 'except', 'finally', 'for', 'from', 'global', 'if', 'import', 'in', 'is', 'lambda', 'nonlocal', 'not', 'or', 'pass', 'raise', 'return', 'try', 'while', 'with', 'yield']"
      ],
      "metadata": {
        "id": "ya_vLzhybR2Q"
      }
    },
    {
      "cell_type": "markdown",
      "source": [
        "# 7,データ型\n",
        "数値型、文字列型、辞書型、リスト型が主。pythonでは型宣言が必要ないので楽である。"
      ],
      "metadata": {
        "id": "8im4mQszbkBI"
      }
    },
    {
      "cell_type": "markdown",
      "source": [
        "### 数値型\n",
        "数値型には以下の3種類がある。\n",
        "1. 整数(int)\n",
        "2. 小数・実数(float)\n",
        "3. 複素数"
      ],
      "metadata": {
        "id": "TEEAxSpgb384"
      }
    },
    {
      "cell_type": "markdown",
      "source": [
        "### 文字列型\n",
        "文字列は先述したようにクオーテーションで囲んで表される。文字列型では、+を使うことで結合、*を使うことで反復ができる。"
      ],
      "metadata": {
        "id": "0_wkI2PqcKXH"
      }
    },
    {
      "cell_type": "markdown",
      "source": [
        "### リスト型(大事)\n",
        "複数の変数をまとめて管理できる。ほかの言語では配列とも呼ばれる。左から0,1,2,,,と数え始める。[]を使う。"
      ],
      "metadata": {
        "id": "VMu7nmsYcxPG"
      }
    },
    {
      "cell_type": "code",
      "source": [
        "pcg = [\"Minecraft\",\"Fortnite\",\"Civilization\"]\n",
        "print(pcg)\n",
        "pcg.append(\"LoL\") #append()を使うことでリストの末尾に要素を追加できる\n",
        "print(pcg)"
      ],
      "metadata": {
        "colab": {
          "base_uri": "https://localhost:8080/"
        },
        "id": "6nvXaEXGdKl9",
        "outputId": "b6a17300-e145-4c16-e432-42ff8bbc0394"
      },
      "execution_count": 3,
      "outputs": [
        {
          "output_type": "stream",
          "name": "stdout",
          "text": [
            "['Minecraft', 'Fortnite', 'Civilization']\n",
            "['Minecraft', 'Fortnite', 'Civilization', 'LoL']\n"
          ]
        }
      ]
    },
    {
      "cell_type": "markdown",
      "source": [
        "### 辞書型\n",
        "辞書型はKeyとValueをペア保持するデータ型。辞書型はリスト型の[]とちがい、{}を使用する。"
      ],
      "metadata": {
        "id": "buR7lVcRdF1S"
      }
    },
    {
      "cell_type": "code",
      "source": [
        "profile = {\"name\": \"tani\", \"email\": \"kazunori-t@cyberbra.in\" }\n",
        "print(profile[\"name\"]) # tani\n",
        "\n",
        "# 新しく要素を追加\n",
        "profile[\"gender\"] = \"male\"\n",
        "\n",
        "# 新しく要素を追加した辞書型(profile)を出力\n",
        "print(profile)"
      ],
      "metadata": {
        "id": "Nz3ylgeIePs1"
      },
      "execution_count": null,
      "outputs": []
    },
    {
      "cell_type": "markdown",
      "source": [
        "# 8,型変換(キャスト)\n",
        "データ型を変換することを、型変換、またはキャストと呼ぶ。データ型の異なるデータは連結できない。<br>\n",
        "数値型を文字列型に変換するにはstr()、その逆はint()を用いる。"
      ],
      "metadata": {
        "id": "pxVkw0ZKcV5s"
      }
    },
    {
      "cell_type": "markdown",
      "source": [
        ""
      ],
      "metadata": {
        "id": "j4rSkkSxcwP6"
      }
    },
    {
      "cell_type": "markdown",
      "source": [
        "## コードブロックとインデント(字下げ)\n",
        "Pythonではインデントで処理をまとめる。基本的には、半角スペース4つ（もしくはタブキー）がインデントの役割になるが、Pythonの文法では、\n",
        "末尾にコロン「:」がつく構文が多い.\n"
      ],
      "metadata": {
        "id": "xF0nOWBleaFf"
      }
    },
    {
      "cell_type": "markdown",
      "source": [
        "# 9,条件分岐(if)\n",
        "theプログラミング。条件に当てはまるかどうかを確かめ、それによって処理の内容を分岐させる。以下はif構文を使用する際に用いる比較演算子。\n",
        "\n",
        "| 条件式 | 意味 |\n",
        "|:------:|:----:|\n",
        "| > |左辺の方が大きい|\n",
        "| < |右辺の方が大きい|\n",
        "| >= |左辺の方が大きいか等しい|\n",
        "| <= |右辺の方が大きいか等しい|\n",
        "| == |両辺は等しい|\n",
        "| != |両辺は等しくない|"
      ],
      "metadata": {
        "id": "LdJhSCGeelcP"
      }
    },
    {
      "cell_type": "code",
      "source": [
        "if 条件A:\n",
        "    条件AがTrueなら実行\n",
        "elif 条件B:\n",
        "    条件AがFalseかつ条件BがTrueなら実行\n",
        "else:\n",
        "    条件AもBもFalseなら実行"
      ],
      "metadata": {
        "id": "6epCaEy_fcaq"
      },
      "execution_count": null,
      "outputs": []
    },
    {
      "cell_type": "markdown",
      "source": [
        "# 10,ループ(for)\n",
        "the プログラミングPart2。リストをループ内変数に格納し、リストの終わりまで処理を繰り返す。"
      ],
      "metadata": {
        "id": "nBLl3fGJfjKu"
      }
    },
    {
      "cell_type": "code",
      "source": [
        "# for ループ内変数 in リスト名:\n",
        "#     実行する処理\n",
        "\n",
        "for i in [\"apple\", \"banana\", \"melon\"]:\n",
        "    print(i)"
      ],
      "metadata": {
        "id": "pBOFJq1kf8WL"
      },
      "execution_count": null,
      "outputs": []
    },
    {
      "cell_type": "markdown",
      "source": [
        "for文で一定回数の繰り返し処理を行うにはrange()関数を用いることが多い。(rangeの中は1スタート)"
      ],
      "metadata": {
        "id": "ajq7pQsJgE38"
      }
    },
    {
      "cell_type": "code",
      "source": [
        "for i in range(10):\n",
        "    print(i)\n",
        "\n",
        "# 出力結果\n",
        "# 0\n",
        "# 1\n",
        "# 2\n",
        "# 3\n",
        "# 4\n",
        "# 5\n",
        "# 6\n",
        "# 7\n",
        "# 8\n",
        "# 9"
      ],
      "metadata": {
        "id": "byr21W90gXVj"
      },
      "execution_count": null,
      "outputs": []
    },
    {
      "cell_type": "markdown",
      "source": [
        "elseと書くことで処理後に1回処理したいものを記述でき、continueと書くことで処理をスキップできる。また、breakと書くことで途中で繰り返しを止められる。"
      ],
      "metadata": {
        "id": "VHyCQN6OiLDv"
      }
    },
    {
      "cell_type": "code",
      "source": [
        "for d in data:\n",
        "    sum_d += d\n",
        "# ループが終わったら1回処理したいものが処理できる。\n",
        "else:\n",
        "    print(sum_d)\n",
        "\n",
        "# cotinue 1回スキップ\n",
        "for i in range(10):\n",
        "    if i == 3:\n",
        "        continue\n",
        "    print(i)\n",
        "# 出力結果\n",
        "# 0\n",
        "# 1\n",
        "# 2\n",
        "# 4\n",
        "# 5\n",
        "# 6\n",
        "# 7\n",
        "# 8\n",
        "# 9\n",
        "\n",
        "for i in range(10):\n",
        "    if i == 3:\n",
        "        break\n",
        "    print(i) # 0 1 2を出力\n",
        "\n",
        "\n",
        "# 出力結果\n",
        "# 0\n",
        "# 1\n",
        "# 2\n",
        "\n",
        "# 先ほど見たelseをfor文と使う際に、「break」を使うと、elseの中の処理は実行されないので注意が必要。"
      ],
      "metadata": {
        "id": "-uiku0vviH05"
      },
      "execution_count": null,
      "outputs": []
    },
    {
      "cell_type": "markdown",
      "source": [
        "### その他for文について\n",
        "*   pythonのforはiterator（イテレータ)と呼ばれる仕組みで、\n",
        "タプルや、文字列、辞書などもkeyとして使える。\n",
        "*   リストの内容をインデックス番号とともに処理したい場合はenumerate()関数を使用する\n",
        "*   またlist()とrange()を組み合わせると、次のような1~100までの要素を持ったリストを簡潔に記述することも出来る。"
      ],
      "metadata": {
        "id": "X2UbtA8EjOG3"
      }
    },
    {
      "cell_type": "markdown",
      "source": [
        "## 辞書型データのループ"
      ],
      "metadata": {
        "id": "n6_soRX3j1cC"
      }
    },
    {
      "cell_type": "code",
      "source": [
        "data = {\"tani\": 21, \"kazu\": 22, \"python\": 100}\n",
        "for key, value in data.items():\n",
        "     print(\"key: {} value: {}\".format(key, value))\n",
        "\n",
        "\n",
        "# key: tani value: 21\n",
        "# key: kazu value: 22\n",
        "# key: python value: 100"
      ],
      "metadata": {
        "colab": {
          "base_uri": "https://localhost:8080/"
        },
        "id": "Xmn3jNKhkNJO",
        "outputId": "01397fd0-3337-40e1-fa6a-dfd1bea833cb"
      },
      "execution_count": 8,
      "outputs": [
        {
          "output_type": "stream",
          "name": "stdout",
          "text": [
            "key: tani value: 21\n",
            "key: kazu value: 22\n",
            "key: python value: 100\n"
          ]
        }
      ]
    },
    {
      "cell_type": "markdown",
      "source": [
        "# 11,ループ(while)\n",
        "while文は特定条件を満たすまでループし続けるもの。注意して使用しないと無限ループに入る。(ループはctrl + c で一応止められる)"
      ],
      "metadata": {
        "id": "AYsf9ot9lIUL"
      }
    },
    {
      "cell_type": "code",
      "source": [
        "n = 0\n",
        "while n <= 5:\n",
        "  print(n)\n",
        "  n += 1    #これを忘れると数が増えないので無限ループになる"
      ],
      "metadata": {
        "colab": {
          "base_uri": "https://localhost:8080/"
        },
        "id": "eN7liVOWl4TZ",
        "outputId": "91849897-f66a-47d3-d766-ce42399b011d"
      },
      "execution_count": 9,
      "outputs": [
        {
          "output_type": "stream",
          "name": "stdout",
          "text": [
            "0\n",
            "1\n",
            "2\n",
            "3\n",
            "4\n",
            "5\n"
          ]
        }
      ]
    },
    {
      "cell_type": "markdown",
      "source": [
        "# 12,リスト内包表記\n",
        "リストや辞書を簡易的な記述で作成するためのもの。リスト内包表記は、既存のリストから取り出した要素に対し処理をするだけでなく、条件に応じた場合にだけ新しいリストに追加したい場合にも使える。\n",
        "内包表記のメリットは、処理を簡潔に書け、新しいリストなどへの追加メソッドの呼び出しにかかるコストを軽減できる。"
      ],
      "metadata": {
        "id": "Apc2aGPjmZDk"
      }
    },
    {
      "cell_type": "code",
      "source": [
        "#通常の方法\n",
        "result = []\n",
        "for i in range(1,11): #左の書き方をすれば1から始められる。\n",
        "    result.append(i**2)\n",
        "print(result)         #上のresultと並べると結果がくどくなる。\n",
        "\n",
        "#内包表記\n",
        "result2 = [x**2 for x in range(1,11)]\n",
        "print(str(result) + \"これは楽だね\")"
      ],
      "metadata": {
        "colab": {
          "base_uri": "https://localhost:8080/"
        },
        "id": "6wuayoDEqBb0",
        "outputId": "b6a9b477-eebf-4a69-8dbb-ef307081a2d3"
      },
      "execution_count": 26,
      "outputs": [
        {
          "output_type": "stream",
          "name": "stdout",
          "text": [
            "[1, 4, 9, 16, 25, 36, 49, 64, 81, 100]\n",
            "[1, 4, 9, 16, 25, 36, 49, 64, 81, 100]これは楽だね\n"
          ]
        }
      ]
    },
    {
      "cell_type": "markdown",
      "source": [
        "辞書型の時は下記のように表記する。"
      ],
      "metadata": {
        "id": "8uVyNZrCsxiR"
      }
    },
    {
      "cell_type": "code",
      "source": [
        "d = {x*2:x**2 for x in range(1,11)} #辞書型の場合はキーと値はコロンで区切って表記する\n",
        "print(d)"
      ],
      "metadata": {
        "id": "D5SpNYzYtHDj"
      },
      "execution_count": null,
      "outputs": []
    },
    {
      "cell_type": "markdown",
      "source": [
        "tupleの場合はtuple()でキャストする必要がある。(tupleとは、緯度経度などの二つの組になっているものを用いるときに使うデータ型である)"
      ],
      "metadata": {
        "id": "cHGnobEDtN0i"
      }
    },
    {
      "cell_type": "markdown",
      "source": [
        "# 13,標準入力\n",
        "input()を用いることでユーザーからの入力を受け取ることができる。"
      ],
      "metadata": {
        "id": "vImY6yMVtvvD"
      }
    },
    {
      "cell_type": "code",
      "source": [
        "print(\"高校では何部に入部したいですか\")\n",
        "hsc = input()\n",
        "print (hsc + \"に入部したいのですね！\")"
      ],
      "metadata": {
        "id": "j3TvspLvuDyu"
      },
      "execution_count": null,
      "outputs": []
    },
    {
      "cell_type": "markdown",
      "source": [
        "＊input()を用いると文字列型になる。"
      ],
      "metadata": {
        "id": "ewVkD5lKuyzf"
      }
    },
    {
      "cell_type": "markdown",
      "source": [
        "# 14,関数\n",
        "関数とはあるデータを受け取り、定められた独自の処理を実行し、その結果を返す命令のことである。pythonが最初から用意している**標準関数**と独自に作成できる**独自関数**の二種類がある。\n",
        "\n",
        "> 標準関数...print()とか\n",
        "関数を定義するためには、defというキーワードを使う。"
      ],
      "metadata": {
        "id": "2fie3Rwru49T"
      }
    },
    {
      "cell_type": "code",
      "source": [
        "def test():\n",
        "    print(\"これはてすとです\")\n",
        "\n",
        "test()"
      ],
      "metadata": {
        "colab": {
          "base_uri": "https://localhost:8080/"
        },
        "id": "eWcsUotfwKY2",
        "outputId": "fd41d7c9-a976-4c02-e5ef-310ac51c3345"
      },
      "execution_count": 33,
      "outputs": [
        {
          "output_type": "stream",
          "name": "stdout",
          "text": [
            "これはてすとです\n"
          ]
        }
      ]
    },
    {
      "cell_type": "markdown",
      "source": [
        "空の関数も定義でき、その時はpassと書く。"
      ],
      "metadata": {
        "id": "RqpUYlnIw9pc"
      }
    },
    {
      "cell_type": "markdown",
      "source": [
        "##また、引数と返り値を設定できる。\n",
        "引数は関数が受け取る値、返り値は関数が出力する値のことである。"
      ],
      "metadata": {
        "id": "Uh_uriB4xB6h"
      }
    },
    {
      "cell_type": "code",
      "source": [
        "def say_hello(name):\n",
        "    print(\"こんにちは\" + str(name) + \"さん\")\n",
        "\n",
        "say_hello(\"山田\") #山田が引数\n",
        "\n",
        "def adder(a, b):\n",
        "    return a+b\n",
        "\n",
        "# 関数内部の処理を変数に保持しておきたい時にreturnは便利\n",
        "value = adder(5,10) # 変数valueに15が代入される"
      ],
      "metadata": {
        "id": "fOhMOSNGxOQt"
      },
      "execution_count": null,
      "outputs": []
    },
    {
      "cell_type": "markdown",
      "source": [
        "また、引数にはデフォルトの値を設定できる。"
      ],
      "metadata": {
        "id": "NbRYTbRPzJ3B"
      }
    },
    {
      "cell_type": "code",
      "source": [
        "def func(a, b=5): #引数bのデフォルト値が5である関数funcを作成\n",
        "    print(a)\n",
        "    print(b)\n",
        "    \n",
        "func(10,15)\n",
        "func(3)"
      ],
      "metadata": {
        "id": "EJGCo1WMzPpw"
      },
      "execution_count": null,
      "outputs": []
    },
    {
      "cell_type": "markdown",
      "source": [
        "# 15,関数 変数のスコープ(有効範囲)\n",
        "変数は、どこで作成したかによってスコープ（有効範囲）が変わる。"
      ],
      "metadata": {
        "id": "SdlkPTUQzQdc"
      }
    },
    {
      "cell_type": "code",
      "source": [
        "def add(a):\n",
        "    b = 10 #関数内で作成されたローカル変数(関数の外から参照できない)\n",
        "    ans = a + b\n",
        "    print(ans)\n",
        "\n",
        "add(5)\n",
        "print(b) #参照できないのでエラーが起きる"
      ],
      "metadata": {
        "id": "Rl7MNPk0zgYl"
      },
      "execution_count": null,
      "outputs": []
    },
    {
      "cell_type": "code",
      "source": [
        "b = 10 #関数外部で作成されたグローバル変数\n",
        "\n",
        "def add(a):\n",
        "    ans = a + b\n",
        "    print(ans)\n",
        "\n",
        "add(5)\n",
        "print(b) #参照できるので値が出力される"
      ],
      "metadata": {
        "id": "cQz61P630Dtr"
      },
      "execution_count": null,
      "outputs": []
    },
    {
      "cell_type": "markdown",
      "source": [
        "また、グローバル変数というものもある。"
      ],
      "metadata": {
        "id": "i8lw_Npn0AwA"
      }
    },
    {
      "cell_type": "code",
      "source": [
        "glb = 0\n",
        "\n",
        "def func1():\n",
        "    glb = 1\n",
        "\n",
        "def func2():\n",
        "    global glb\n",
        "    glb = 5\n",
        "\n",
        "print(glb) # 0が出力される\n",
        "func1()\n",
        "print(glb) # 0が出力される\n",
        "func2()\n",
        "print(glb) # 5が出力される"
      ],
      "metadata": {
        "id": "Fe7bl2D512kQ"
      },
      "execution_count": null,
      "outputs": []
    },
    {
      "cell_type": "markdown",
      "source": [
        "# 16,ライブラリ\n",
        "ライブラリとは、ある程度まとまった汎用性の高い処理を記述しておき、読み込むことで他のプログラムでも使えるようにしたファイル。Pythonでは、モジュールと呼ぶ。import文を使用することでモジュールを読み込むことが出来る。"
      ],
      "metadata": {
        "id": "37bgxGTb13Bu"
      }
    },
    {
      "cell_type": "code",
      "source": [
        "import sys #sysモジュールをインポート\n",
        "print(sys.version) #sysモジュールのversion関数で使用中のpythonのバージョン情報を取得"
      ],
      "metadata": {
        "colab": {
          "base_uri": "https://localhost:8080/"
        },
        "id": "DpNI4KMy1-XL",
        "outputId": "667a6e17-5381-4132-c6ba-c4dd0fa23bc4"
      },
      "execution_count": 34,
      "outputs": [
        {
          "output_type": "stream",
          "name": "stdout",
          "text": [
            "3.7.13 (default, Apr 24 2022, 01:04:09) \n",
            "[GCC 7.5.0]\n"
          ]
        }
      ]
    },
    {
      "cell_type": "markdown",
      "source": [
        "モジュールは、pythonのファイルに自分で関数を定義して作成することも出来る。自作のモジュールを読み込む場合は、<br>\n",
        "**import ファイル名**<br>\n",
        "で読み込むことが出来る。<br><br>\n",
        "また、<br>\n",
        "**from モジュール名 import 関数名**<br>\n",
        "で、ファイル名の指定をすることなく関数が呼び出せる。"
      ],
      "metadata": {
        "id": "moNG24iv2Kxq"
      }
    },
    {
      "cell_type": "markdown",
      "source": [
        "# オブジェクト指向\n",
        "オブジェクト指向とは、プログラミングのスタイル・手法のこと。オブジェクト指向を用いることで、開発の効率や保守性を挙げることが出来る。JavaやC++などが該当する。"
      ],
      "metadata": {
        "id": "mSUIAjjR2R1P"
      }
    },
    {
      "cell_type": "markdown",
      "source": [
        "# 17,クラス\n",
        "クラスはオブジェクト指向の基礎で、データ構造を作る仕組み。クラスからインスタンスを生成することで、実際にその構造にデータを持たせることが出来る。"
      ],
      "metadata": {
        "id": "Vk6yuUtO25M1"
      }
    },
    {
      "cell_type": "code",
      "source": [
        "class User: #クラス名は慣習として、単語の頭は大文字にすることが多い。\n",
        "    def __init__(self, name): #__init__でコンストラクタを設定できる（コンストラクタはインスタンスが作成されたときに一度だけ呼び出される）\n",
        "        \n",
        "        self.name = name #インスタンス変数nameに受け取った引数nameを代入（インスタンス変数は、個々のインスタンスに格納される。）\n",
        "        print(\"コンストラクタが呼ばれました\")\n",
        "        \n",
        "    def hello(self): #クラスに関数helloを定義する（クラスに定義された関数をメソッドという。）\n",
        "        print(\"Hello \" + self.name)\n",
        "        \n",
        "user = User(\"Sample User\") #userという名前のインスタンスを作成\n",
        "py = User(\"Python\") #pyというインスタンスも使い回して作成できる\n",
        "\n",
        "user.hello()\n",
        "py.hello() #それぞれのインスタンスに渡した引数を反映して結果が出る"
      ],
      "metadata": {
        "id": "Lztm6rHL2-YK"
      },
      "execution_count": null,
      "outputs": []
    },
    {
      "cell_type": "markdown",
      "source": [
        "＊イメージ　クラス>メソッド>プログラム達"
      ],
      "metadata": {
        "id": "HW1Ssg7h3LAX"
      }
    },
    {
      "cell_type": "markdown",
      "source": [
        "# 18,継承\n",
        "継承は、既存のクラスをもとに新しいクラスを作ることが出来る仕組みである。"
      ],
      "metadata": {
        "id": "VXcpHasj3pSr"
      }
    },
    {
      "cell_type": "code",
      "source": [
        "class User:\n",
        "    def __init__(self, name):  \n",
        "        self.name = name\n",
        "        print(\"コンストラクタが呼ばれました\")\n",
        "        \n",
        "    def hello(self):\n",
        "        print(\"Hello \" + self.name)\n",
        "        \n",
        "class SuperUser(User): #()の中に継承元のクラスを書く。\n",
        "    def __init__(self, name, age):\n",
        "        \n",
        "        super().__init__(name) #super()を使うことで親クラスを呼び出せる。\n",
        "        self.age = age\n",
        "        \n",
        "    def hello(self): #メソッドをオーバーライド（上書き）することもできる\n",
        "        print(\"SuperHello \" + self.name)\n",
        "        \n",
        "t = SuperUser(\"tani\", 100)\n",
        "t.hello()"
      ],
      "metadata": {
        "id": "M84I_wxP3l2A"
      },
      "execution_count": null,
      "outputs": []
    },
    {
      "cell_type": "markdown",
      "source": [
        "複数の親クラスから継承することを多重継承という。"
      ],
      "metadata": {
        "id": "s_3mnHpO3lLj"
      }
    },
    {
      "cell_type": "code",
      "source": [
        "class Base1:\n",
        "    pass #何も処理をしない時はpassを書く\n",
        "\n",
        "class Base2:\n",
        "    pass\n",
        "\n",
        "class SampleClassName(Base1, Base2): #このように書くことで複数の親クラスから継承できる。\n",
        "    pass"
      ],
      "metadata": {
        "id": "OtwEUAhb31la"
      },
      "execution_count": null,
      "outputs": []
    },
    {
      "cell_type": "markdown",
      "source": [
        "難しいです。以上です。"
      ],
      "metadata": {
        "id": "MFRhwtwL3-DO"
      }
    }
  ]
}